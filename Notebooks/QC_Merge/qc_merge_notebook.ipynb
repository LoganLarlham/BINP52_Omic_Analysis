{
 "cells": [
  {
   "cell_type": "markdown",
   "metadata": {},
   "source": [
    "# Data Read-in, QC, & Data merge\n",
    "\n",
    "In this notebook, the data will be read in from the CellRanger output matrix, The relevent quality measures will be visualized and explored, filtered based  on these measures then the seperate datasets merged together into a single Anndata object which will be saved for loading into the net notebook. A report should also be able to be generated which contains the initial initial stats, QC figures, post-filtering stats. \n",
    "\n",
    "## Packages and Read-in \n",
    "\n",
    "import necesary packages/modules here followed by reading the 7 datasets as 10x Cellranger matrix files into anndata objects using the scanpy read_10x_mtx function, each dataset and a name as a dicitonary key/value pair, so the initial steps can be done on each serperately easily.\n",
    "\n"
   ]
  },
  {
   "cell_type": "code",
   "execution_count": null,
   "metadata": {},
   "outputs": [],
   "source": [
    "import scanpy as sc\n",
    "\n",
    "# Modify the sys.path to include the notebook directory to import functions\n",
    "import sys\n",
    "import os\n",
    "\n",
    "notebook_dir = os.path.abspath(os.path.join(os.getcwd(), '..'))\n",
    "if notebook_dir not in sys.path:\n",
    "    sys.path.append(notebook_dir)\n",
    "\n",
    "import func_lib as f"
   ]
  },
  {
   "cell_type": "code",
   "execution_count": null,
   "metadata": {},
   "outputs": [],
   "source": [
    "\n",
    "adatas = {\n",
    "    \"D1\" : sc.read_10x_mtx(\n",
    "        \"/Users/loganlarlham/Documents/Summer_proj_2024/Results_HT/collect_tube_1_batch_3_June_outs/filtered_feature_bc_matrix\",\n",
    "        var_names=\"gene_symbols\",\n",
    "        cache=False,\n",
    "        make_unique=True,\n",
    "        gex_only=False),\n",
    "    \"D2\" : sc.read_10x_mtx(\n",
    "        \"/Users/loganlarlham/Documents/Summer_proj_2024/Results_HT/collect_tube_2_batch_3_june_outs/filtered_feature_bc_matrix\",\n",
    "        var_names=\"gene_symbols\",\n",
    "        cache=False,\n",
    "        make_unique=True,\n",
    "        gex_only=False),\n",
    "    \"D3\" : sc.read_10x_mtx(\n",
    "        \"/Users/loganlarlham/Documents/Summer_proj_2024/Results_HT/Isol_Microglia_EFAD_TD_august_outs/filtered_feature_bc_matrix\",\n",
    "        var_names=\"gene_symbols\",\n",
    "        cache=False,\n",
    "        make_unique=True,\n",
    "        gex_only=False),\n",
    "    \"D4\" : sc.read_10x_mtx(\n",
    "        \"/Users/loganlarlham/Documents/Summer_proj_2024/Results_HT/MICROGLIA_E3E4FAD_TD_23_05_2023_outs/filtered_feature_bc_matrix\",\n",
    "        var_names=\"gene_symbols\",\n",
    "        cache=False,\n",
    "        make_unique=True,\n",
    "        gex_only=False),\n",
    "    \"D5\" : sc.read_10x_mtx(\n",
    "        \"/Users/loganlarlham/Documents/Summer_proj_2024/Results_HT/Tube_1_July_20_TD_YYRFC_outs/filtered_feature_bc_matrix\",\n",
    "        var_names=\"gene_symbols\",\n",
    "        cache=False,\n",
    "        make_unique=True,\n",
    "        gex_only=False),\n",
    "    \"D6\" : sc.read_10x_mtx(\n",
    "        \"/Users/loganlarlham/Documents/Summer_proj_2024/Results_HT/Tube2_July_20_TD_outs/filtered_feature_bc_matrix\",\n",
    "        var_names=\"gene_symbols\",\n",
    "        cache=False,\n",
    "        make_unique=True,\n",
    "        gex_only=False),\n",
    "    \"D7\" : sc.read_10x_mtx(\n",
    "        \"/Users/loganlarlham/Documents/Summer_proj_2024/Results_HT/Tube3_july_20_TD_outs/filtered_feature_bc_matrix\",\n",
    "        var_names=\"gene_symbols\",\n",
    "        cache=False,\n",
    "        make_unique=True,\n",
    "        gex_only=False),\n",
    "    }\n",
    "\n"
   ]
  },
  {
   "cell_type": "markdown",
   "metadata": {},
   "source": [
    "## QC measures\n",
    "\n",
    "Next we will use the summarize_adata function to print out basic stats about each dataset, and then visualize_QC_measures to plot these basic QC measures for analysis.\n",
    "\n",
    "*note: summarize_adata print out could be improved, formatting wise\n",
    "**note: color legend on scatterplot of visualize function is fkced up\n",
    "\n"
   ]
  },
  {
   "cell_type": "code",
   "execution_count": null,
   "metadata": {},
   "outputs": [],
   "source": [
    "# Print Quality Control metric for each dataset\n",
    "for adata_key, adata in adatas.items():\n",
    "    print(f\"{adata_key}:\")\n",
    "    f.summarize_adata(adata, mt_gene_prefix=\"mt-\", ribo_gene_prefixes=(\"Rps\", \"Rpl\"), min_counts=1000, min_genes=300, min_cells=3)\n",
    "    print(\"\\n\")"
   ]
  },
  {
   "cell_type": "code",
   "execution_count": null,
   "metadata": {},
   "outputs": [],
   "source": [
    "# Visualize pre-filtering QC measures\n",
    "f.visualize_QC_measures(adatas)"
   ]
  }
 ],
 "metadata": {
  "kernelspec": {
   "display_name": "scvi-env",
   "language": "python",
   "name": "python3"
  },
  "language_info": {
   "name": "python",
   "version": "3.9.-1"
  }
 },
 "nbformat": 4,
 "nbformat_minor": 2
}
