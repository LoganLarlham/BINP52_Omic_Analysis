version https://git-lfs.github.com/spec/v1
oid sha256:8a5fe00bc9824efb79c4fcfc75b92192d88b4245931285ca235b7077749a46cb
size 1142587
