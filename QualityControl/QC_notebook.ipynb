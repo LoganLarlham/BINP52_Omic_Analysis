{
 "cells": [
  {
   "cell_type": "markdown",
   "metadata": {},
   "source": [
    "This notebook is going to be for processing and quality control of the hashtagged & comoplete data. Begin with package loading and a few functions definition. (should probably make a script i can read in of my functions at some point)"
   ]
  },
  {
   "cell_type": "code",
   "execution_count": 106,
   "metadata": {},
   "outputs": [],
   "source": [
    "import os\n",
    "import gc\n",
    "import scanpy as sc\n",
    "import anndata as ad\n",
    "import numpy as np\n",
    "import pandas as pd\n",
    "from solo import hashsolo\n",
    "import scvi\n",
    "import matplotlib.pyplot as plt\n"
   ]
  },
  {
   "cell_type": "code",
   "execution_count": 90,
   "metadata": {},
   "outputs": [],
   "source": [
    "# Function which prints basic Quality Control metrics without any filtering/changing data\n",
    "def summarize_adata(adata):\n",
    "    # Calculate the total number of cells and genes\n",
    "    total_cells = adata.n_obs\n",
    "    total_genes = adata.n_vars\n",
    "    \n",
    "    # Calculate number of cells with fewer than 500 UMI counts\n",
    "    cells_with_500_or_more = (adata.X.sum(axis=1) >= 500).sum()\n",
    "    cells_with_less_than_500 = total_cells - cells_with_500_or_more\n",
    "    print(f\"Number of cells with fewer than 500 UMI counts: {cells_with_less_than_500}\")\n",
    "\n",
    "    # Calculate number of cells with fewer than 200 genes\n",
    "    cells_with_200_or_more_genes = (adata.X > 0).sum(axis=1) >= 200\n",
    "    cells_with_less_than_200_genes = total_cells - cells_with_200_or_more_genes.sum()\n",
    "    print(f\"Number of cells with fewer than 200 genes: {cells_with_less_than_200_genes}\")\n",
    "\n",
    "    # Calculate number of genes expressed in fewer than 3 cells\n",
    "    genes_with_3_or_more_cells = (adata.X > 0).sum(axis=0) >= 3\n",
    "    genes_with_less_than_3_cells = total_genes - genes_with_3_or_more_cells.sum()\n",
    "    print(f\"Number of genes expressed in fewer than 3 cells: {genes_with_less_than_3_cells}\")\n",
    "    \n",
    "\n",
    "    # Print current status of the AnnData object\n",
    "    print(f\"Current Anndata has {adata.n_obs} cells and {adata.n_vars} genes, with a total amount of {adata.X.sum()} UMI counts\")\n",
    "\n",
    "def QC_filter_adata(adata):\n",
    "    # Annotate the group of mitochondrial genes as 'mt'\n",
    "    adata.var[\"mt\"] = adata.var_names.str.startswith(\"mt-\")\n",
    "\n",
    "    # Calculate QC metrics\n",
    "    sc.pp.calculate_qc_metrics(adata, qc_vars=[\"mt\"], percent_top=None, log1p=False, inplace=True)\n",
    "\n",
    "    # Visualize QC metrics before filtering\n",
    "    print(\"Visualizations before filtering:\")\n",
    "    sc.pl.violin(adata, [\"n_genes_by_counts\", \"total_counts\", \"pct_counts_mt\"], jitter=0.4, multi_panel=True)\n",
    "    sc.pl.scatter(adata, x=\"total_counts\", y=\"n_genes_by_counts\", color=\"pct_counts_mt\")\n",
    "\n",
    "    # Print the number of cells with more than 5% mitochondrial genes\n",
    "    cells_with_more_than_5_percent_mt = (adata.obs[\"pct_counts_mt\"] > 5).sum()\n",
    "    print(f\"{cells_with_more_than_5_percent_mt} of {adata.n_obs} cells contain more than 5% mitochondrial genes. Will be filtered\")\n",
    "\n",
    "    # Filter cells with more than 5% mitochondrial genes\n",
    "    adata = adata[adata.obs.pct_counts_mt < 5, :]\n",
    "    sc.pp.filter_cells(adata, min_counts=500)\n",
    "    sc.pp.filter_cells(adata, min_genes=200)\n",
    "    sc.pp.filter_genes(adata, min_cells=3)\n",
    "\n",
    "    # Recalculate QC metrics for the filtered data\n",
    "    sc.pp.calculate_qc_metrics(adata, qc_vars=[\"mt\"], percent_top=None, log1p=False, inplace=True)\n",
    "\n",
    "    # Visualize QC metrics after filtering\n",
    "    print(\"Visualizations after filtering:\")\n",
    "    sc.pl.violin(adata, [\"n_genes_by_counts\", \"total_counts\", \"pct_counts_mt\"], jitter=0.4, multi_panel=True)\n",
    "    sc.pl.scatter(adata, x=\"total_counts\", y=\"n_genes_by_counts\", color=\"pct_counts_mt\")\n",
    "\n",
    "    return adata\n",
    "\n",
    "# Function to generate a dictionary of lists of genes relevant to analysis which are present in the dataset\n",
    "def find_genes(adata):\n",
    "    #define some lists of genes of interest for the analysis.\n",
    "    Genes_of_interest = []\n",
    "    homeo_genes = ['Sall1', 'Cx3cr1', 'P2ry12', 'P2ry13', 'Olfml3', 'Tmem119', 'Cd68', 'Itgam', 'Cst3']\n",
    "    DAM_genes = ['Apoe', 'B2m', 'Ctsb', 'Lpl', 'Cst7', 'Tyrobp', 'Trem2', 'Cd9', 'Itgax', 'Cd63', 'Fth1', 'Spp1', 'Axl', 'Mertk', 'Mdk', 'Ptn']\n",
    "    Mapk_genes = ['Syk', 'Prkca', 'Mef2c', 'Elk4', 'Trp53', 'Mertk', 'Axl', 'Mapk14', 'Mapk1', 'Gadd45a',]\n",
    "    Nfkb_genes = ['Nfkb1', 'Tlr4', 'Nfkbia', 'Cd40', 'Tlr4', 'Rela', 'Relb']\n",
    "    Macroph_genes = ['Mrc1', 'Mrc2', 'Ccr2', 'Ly6c2', 'Lyz2', 'Vim', 'Ifi204', 'S100a10', 'Msrb1']\n",
    "    # make a dictionary of the lists to iterate through\n",
    "    gene_lists = {\"Homeo\": homeo_genes, \"DAM\": DAM_genes, \"Mapk\": Mapk_genes, \"Nfkb\": Nfkb_genes, \"Macroph\": Macroph_genes}\n",
    "    found_genes = {key: [] for key in gene_lists.keys()}\n",
    "\n",
    "    # loop through gene lists and genes, see if it is present in the passed adata, if so append it to a list+dictionary \n",
    "    # so we have a dicitonary of lists of only genes in the dataset, as well as a list of all genes from the different types\n",
    "    for gene_list_name, gene_list in gene_lists.items():\n",
    "        for gene in gene_list:\n",
    "            if gene in adata.var.index:\n",
    "                print(f\" ✓ {gene} is in adata.var\")\n",
    "                Genes_of_interest.append(gene)\n",
    "                found_genes[gene_list_name].append(gene)\n",
    "            else:\n",
    "                print(f\"{gene} is not in adata.var\")\n",
    "\n",
    "    return Genes_of_interest, found_genes\n"
   ]
  },
  {
   "cell_type": "code",
   "execution_count": null,
   "metadata": {},
   "outputs": [],
   "source": [
    "# # Read each sequencing run data into a dictionary, with a name for each as the key\n",
    "# adatas = {\n",
    "#     \"D1\" : sc.read_10x_mtx(\n",
    "#         \"/Users/loganlarlham/Documents/Summer_proj_2024/Results_HT/collect_tube_1_batch_3_June_outs/filtered_feature_bc_matrix\",\n",
    "#         var_names=\"gene_symbols\",\n",
    "#         cache=False,\n",
    "#         make_unique=True,\n",
    "#         gex_only=False),\n",
    "#     \"D2\" : sc.read_10x_mtx(\n",
    "#         \"/Users/loganlarlham/Documents/Summer_proj_2024/Results_HT/Isol_Microglia_EFAD_TD_august_outs/filtered_feature_bc_matrix\",\n",
    "#         var_names=\"gene_symbols\",\n",
    "#         cache=False,\n",
    "#         make_unique=True,\n",
    "#         gex_only=False),\n",
    "#     \"D3\" : sc.read_10x_mtx(\n",
    "#         \"/Users/loganlarlham/Documents/Summer_proj_2024/Results_HT/Tube2_July_20_TD_outs/filtered_feature_bc_matrix\",\n",
    "#         var_names=\"gene_symbols\",\n",
    "#         cache=False,\n",
    "#         make_unique=True,\n",
    "#         gex_only=False),\n",
    "#     \"D4\" : sc.read_10x_mtx(\n",
    "#         \"/Users/loganlarlham/Documents/Summer_proj_2024/Results_HT/Tube3_july_20_TD_outs/filtered_feature_bc_matrix\",\n",
    "#         var_names=\"gene_symbols\",\n",
    "#         cache=False,\n",
    "#         make_unique=True,\n",
    "#         gex_only=False)\n",
    "#     }"
   ]
  },
  {
   "cell_type": "code",
   "execution_count": 78,
   "metadata": {},
   "outputs": [],
   "source": [
    "# Read each sequencing run data into a dictionary, with a name for each as the key\n",
    "adatas = {\n",
    "    \"D1\" : sc.read_10x_mtx(\n",
    "        \"/Users/loganlarlham/Documents/Summer_proj_2024/Results_HT/collect_tube_1_batch_3_June_outs/filtered_feature_bc_matrix\",\n",
    "        var_names=\"gene_symbols\",\n",
    "        cache=False,\n",
    "        make_unique=True,\n",
    "        gex_only=False),\n",
    "    \"D2\" : sc.read_10x_mtx(\n",
    "        \"/Users/loganlarlham/Documents/Summer_proj_2024/Results_HT/Isol_Microglia_EFAD_TD_august_outs/filtered_feature_bc_matrix\",\n",
    "        var_names=\"gene_symbols\",\n",
    "        cache=False,\n",
    "        make_unique=True,\n",
    "        gex_only=False),\n",
    "    \"D3\" : sc.read_10x_mtx(\n",
    "        \"/Users/loganlarlham/Documents/Summer_proj_2024/Results_HT/Tube2_July_20_TD_outs/filtered_feature_bc_matrix\",\n",
    "        var_names=\"gene_symbols\",\n",
    "        cache=False,\n",
    "        make_unique=True,\n",
    "        gex_only=False),\n",
    "    \"D4\" : sc.read_10x_mtx(\n",
    "        \"/Users/loganlarlham/Documents/Summer_proj_2024/Results_HT/Tube3_july_20_TD_outs/filtered_feature_bc_matrix\",\n",
    "        var_names=\"gene_symbols\",\n",
    "        cache=False,\n",
    "        make_unique=True,\n",
    "        gex_only=False),\n",
    "    }"
   ]
  },
  {
   "cell_type": "code",
   "execution_count": 79,
   "metadata": {},
   "outputs": [
    {
     "name": "stdout",
     "output_type": "stream",
     "text": [
      "AnnData object with n_obs × n_vars = 3723 × 33993\n",
      "    var: 'gene_ids', 'feature_types'\n",
      "                         gene_ids    feature_types\n",
      "Gm29155        ENSMUSG00000100764  Gene Expression\n",
      "Gm29157        ENSMUSG00000100635  Gene Expression\n",
      "Gm29156        ENSMUSG00000100480  Gene Expression\n",
      "Pcmtd1         ENSMUSG00000051285  Gene Expression\n",
      "Gm26901        ENSMUSG00000097797  Gene Expression\n",
      "Gm30414        ENSMUSG00000103067  Gene Expression\n",
      "Cdh7           ENSMUSG00000026312  Gene Expression\n",
      "Exo1           ENSMUSG00000039748  Gene Expression\n",
      "Becn2          ENSMUSG00000104158  Gene Expression\n",
      "Uxs1           ENSMUSG00000057363  Gene Expression\n",
      "Cdh19          ENSMUSG00000047216  Gene Expression\n",
      "Gm29088        ENSMUSG00000101253  Gene Expression\n",
      "Dsel           ENSMUSG00000038702  Gene Expression\n",
      "Gm28189        ENSMUSG00000101453  Gene Expression\n",
      "9330185C12Rik  ENSMUSG00000097648  Gene Expression\n",
      "Pld5           ENSMUSG00000055214  Gene Expression\n",
      "Rbm8a2         ENSMUSG00000078184  Gene Expression\n",
      "Gm38101        ENSMUSG00000104157  Gene Expression\n",
      "Gm36536        ENSMUSG00000104021  Gene Expression\n",
      "Asic4          ENSMUSG00000033007  Gene Expression\n",
      "Empty DataFrame\n",
      "Columns: []\n",
      "Index: [AAACCCACACACCTAA-1, AAACCCACACTGTGTA-1, AAACCCAGTTCTTGCC-1, AAACGAATCATTCCTA-1, AAACGCTAGACGCCAA-1, AAACGCTAGCCAAGGT-1, AAACGCTCAACCGTGC-1, AAACGCTCAAGCCCAC-1, AAACGCTCATGTGGTT-1, AAAGAACAGACAACAT-1, AAAGAACAGGGACACT-1, AAAGAACTCAGACATC-1, AAAGAACTCCAGTACA-1, AAAGGATAGAAACCCG-1, AAAGGATAGAGTTGCG-1, AAAGGATCAGGTGTTT-1, AAAGGATTCATTTCCA-1, AAAGGATTCATTTGCT-1, AAAGGATTCCATCTCG-1, AAAGGATTCGCCGAAC-1, AAAGGGCAGACCATTC-1, AAAGGGCAGGCATCGA-1, AAAGGGCCACACACTA-1, AAAGGGCCAGCTTCCT-1, AAAGGGCTCCGGTAGC-1, AAAGGTACAATTCGTG-1, AAAGGTACACTCCGGA-1, AAAGGTAGTTACACAC-1, AAAGGTATCGGACTGC-1, AAAGTCCAGAGTCGAC-1, AAAGTCCCAAGGTCTT-1, AAAGTCCCATGATAGA-1, AAAGTGAAGCTACGTT-1, AAAGTGAAGTAGCATA-1, AAAGTGATCTAGAACC-1, AAAGTGATCTTACACT-1, AAATGGAAGATGTAGT-1, AAATGGAAGGAATGTT-1, AAATGGAAGGTCATCT-1, AAATGGACAAAGAGTT-1, AAATGGACAGACTGCC-1, AAATGGACAGTCGGTC-1, AAATGGAGTGAGTTGG-1, AAATGGATCCCGATCT-1, AAATGGATCGACACTA-1, AAATGGATCGATACTG-1, AAATGGATCGGTAGGA-1, AACAACCGTACTCAAC-1, AACAACCGTTAGAAAC-1, AACAACCTCGAGCCAC-1, AACAAGAAGCCTTTGA-1, AACAAGACAATCCTTT-1, AACAAGACACCCGTAG-1, AACACACCAAAGGTTA-1, AACACACCACAATGTC-1, AACACACGTCATATGC-1, AACACACGTCCAGCAC-1, AACAGGGTCCGGGACT-1, AACCAACAGCATCTTG-1, AACCAACAGCGCCTCA-1, AACCAACAGGGTTAGC-1, AACCAACCAAATGGTA-1, AACCAACCATCATGAC-1, AACCACAAGCTGACCC-1, AACCACAAGTGAGCCA-1, AACCACACACGGTGAA-1, AACCATGGTGATAGTA-1, AACCATGTCGACCACG-1, AACCCAAAGTCACGCC-1, AACCCAACAGGAATAT-1, AACCCAAGTATATGGA-1, AACCTGAAGACGCAGT-1, AACCTGAAGGACTTCT-1, AACCTGAAGGAGGGTG-1, AACCTGACAACTCCCT-1, AACCTGACAATCGCAT-1, AACCTGACAATCTCGA-1, AACCTGATCACCACAA-1, AACCTGATCTTCACGC-1, AACCTTTTCTCTGCCA-1, AACGAAAAGCGCCTTG-1, AACGAAACACCTTCCA-1, AACGAAACAGGCTCTG-1, AACGAAAGTCTGTGCG-1, AACGAAAGTGATTCAC-1, AACGGGAAGCGATGGT-1, AACGGGAAGGTTATAG-1, AACGGGACAGAGGCAT-1, AACGGGAGTCATGACT-1, AACGGGAGTCCGGACT-1, AACGGGATCGATACAC-1, AACGGGATCTAAGGAA-1, AACGTCAAGATCCCGC-1, AACGTCAAGCGTTAGG-1, AACGTCACACATAGCT-1, AACTTCTAGGTTATAG-1, AACTTCTCAGTACTAC-1, AACTTCTGTCTCAGGC-1, AACTTCTGTGACCGAA-1, AACTTCTTCTAGCAAC-1, ...]\n",
      "\n",
      "[3723 rows x 0 columns]\n"
     ]
    }
   ],
   "source": [
    "print(adatas['D1'])\n",
    "print(adatas['D1'].var.head(20))\n",
    "print(adatas['D1'].obs)\n",
    "HTO1 = 0\n",
    "for cell in adatas['D1'].obs.index:\n",
    "    if cell[-1] == '1':\n",
    "        HTO1 += 1\n",
    "print(HTO1)\n",
    "print(adatas['D1'].obs.index)\n"
   ]
  },
  {
   "cell_type": "code",
   "execution_count": 86,
   "metadata": {},
   "outputs": [
    {
     "name": "stdout",
     "output_type": "stream",
     "text": [
      "gene_ids                Hashtag_1\n",
      "feature_types    Antibody Capture\n",
      "Name: K231, dtype: object\n",
      "gene_ids                Hashtag_2\n",
      "feature_types    Antibody Capture\n",
      "Name: K233, dtype: object\n",
      "gene_ids                Hashtag_3\n",
      "feature_types    Antibody Capture\n",
      "Name: K234, dtype: object\n",
      "gene_ids                Hashtag_4\n",
      "feature_types    Antibody Capture\n",
      "Name: K219, dtype: object\n"
     ]
    }
   ],
   "source": [
    "for index, row in adatas['D1'].var.iterrows():\n",
    "    if row['feature_types'] == 'Antibody Capture':\n",
    "        print(row)\n",
    "        \n",
    "\n",
    "\n"
   ]
  },
  {
   "cell_type": "code",
   "execution_count": 102,
   "metadata": {},
   "outputs": [
    {
     "name": "stdout",
     "output_type": "stream",
     "text": [
      "4\n"
     ]
    }
   ],
   "source": [
    "print(sum(adatas['D1'].var.gene_ids.str.startswith('Hashtag')))\n"
   ]
  },
  {
   "cell_type": "code",
   "execution_count": 103,
   "metadata": {},
   "outputs": [],
   "source": [
    "hto=adatas['D1'][:,adatas['D1'].var.gene_ids.str.startswith('Hashtag')].copy()"
   ]
  },
  {
   "cell_type": "code",
   "execution_count": 104,
   "metadata": {},
   "outputs": [
    {
     "data": {
      "text/plain": [
       "AnnData object with n_obs × n_vars = 3723 × 4\n",
       "    var: 'gene_ids', 'feature_types'"
      ]
     },
     "execution_count": 104,
     "metadata": {},
     "output_type": "execute_result"
    }
   ],
   "source": [
    "hto"
   ]
  },
  {
   "cell_type": "code",
   "execution_count": 107,
   "metadata": {},
   "outputs": [],
   "source": [
    "hashsolo.hashsolo(hto)"
   ]
  },
  {
   "cell_type": "code",
   "execution_count": 109,
   "metadata": {},
   "outputs": [
    {
     "data": {
      "text/html": [
       "<div>\n",
       "<style scoped>\n",
       "    .dataframe tbody tr th:only-of-type {\n",
       "        vertical-align: middle;\n",
       "    }\n",
       "\n",
       "    .dataframe tbody tr th {\n",
       "        vertical-align: top;\n",
       "    }\n",
       "\n",
       "    .dataframe thead th {\n",
       "        text-align: right;\n",
       "    }\n",
       "</style>\n",
       "<table border=\"1\" class=\"dataframe\">\n",
       "  <thead>\n",
       "    <tr style=\"text-align: right;\">\n",
       "      <th></th>\n",
       "      <th>most_likely_hypothesis</th>\n",
       "      <th>cluster_feature</th>\n",
       "      <th>negative_hypothesis_probability</th>\n",
       "      <th>singlet_hypothesis_probability</th>\n",
       "      <th>doublet_hypothesis_probability</th>\n",
       "      <th>Classification</th>\n",
       "    </tr>\n",
       "  </thead>\n",
       "  <tbody>\n",
       "    <tr>\n",
       "      <th>AAACCCACACACCTAA-1</th>\n",
       "      <td>1.0</td>\n",
       "      <td>0.0</td>\n",
       "      <td>4.464767e-17</td>\n",
       "      <td>0.996940</td>\n",
       "      <td>0.003060</td>\n",
       "      <td>K219</td>\n",
       "    </tr>\n",
       "    <tr>\n",
       "      <th>AAACCCACACTGTGTA-1</th>\n",
       "      <td>1.0</td>\n",
       "      <td>0.0</td>\n",
       "      <td>6.267321e-17</td>\n",
       "      <td>0.999967</td>\n",
       "      <td>0.000033</td>\n",
       "      <td>K219</td>\n",
       "    </tr>\n",
       "    <tr>\n",
       "      <th>AAACCCAGTTCTTGCC-1</th>\n",
       "      <td>1.0</td>\n",
       "      <td>0.0</td>\n",
       "      <td>3.610621e-17</td>\n",
       "      <td>0.978346</td>\n",
       "      <td>0.021654</td>\n",
       "      <td>K231</td>\n",
       "    </tr>\n",
       "    <tr>\n",
       "      <th>AAACGAATCATTCCTA-1</th>\n",
       "      <td>1.0</td>\n",
       "      <td>0.0</td>\n",
       "      <td>4.542338e-17</td>\n",
       "      <td>0.997457</td>\n",
       "      <td>0.002543</td>\n",
       "      <td>K234</td>\n",
       "    </tr>\n",
       "    <tr>\n",
       "      <th>AAACGCTAGACGCCAA-1</th>\n",
       "      <td>1.0</td>\n",
       "      <td>0.0</td>\n",
       "      <td>1.346882e-10</td>\n",
       "      <td>0.999696</td>\n",
       "      <td>0.000304</td>\n",
       "      <td>K231</td>\n",
       "    </tr>\n",
       "  </tbody>\n",
       "</table>\n",
       "</div>"
      ],
      "text/plain": [
       "                    most_likely_hypothesis  cluster_feature  \\\n",
       "AAACCCACACACCTAA-1                     1.0              0.0   \n",
       "AAACCCACACTGTGTA-1                     1.0              0.0   \n",
       "AAACCCAGTTCTTGCC-1                     1.0              0.0   \n",
       "AAACGAATCATTCCTA-1                     1.0              0.0   \n",
       "AAACGCTAGACGCCAA-1                     1.0              0.0   \n",
       "\n",
       "                    negative_hypothesis_probability  \\\n",
       "AAACCCACACACCTAA-1                     4.464767e-17   \n",
       "AAACCCACACTGTGTA-1                     6.267321e-17   \n",
       "AAACCCAGTTCTTGCC-1                     3.610621e-17   \n",
       "AAACGAATCATTCCTA-1                     4.542338e-17   \n",
       "AAACGCTAGACGCCAA-1                     1.346882e-10   \n",
       "\n",
       "                    singlet_hypothesis_probability  \\\n",
       "AAACCCACACACCTAA-1                        0.996940   \n",
       "AAACCCACACTGTGTA-1                        0.999967   \n",
       "AAACCCAGTTCTTGCC-1                        0.978346   \n",
       "AAACGAATCATTCCTA-1                        0.997457   \n",
       "AAACGCTAGACGCCAA-1                        0.999696   \n",
       "\n",
       "                    doublet_hypothesis_probability Classification  \n",
       "AAACCCACACACCTAA-1                        0.003060           K219  \n",
       "AAACCCACACTGTGTA-1                        0.000033           K219  \n",
       "AAACCCAGTTCTTGCC-1                        0.021654           K231  \n",
       "AAACGAATCATTCCTA-1                        0.002543           K234  \n",
       "AAACGCTAGACGCCAA-1                        0.000304           K231  "
      ]
     },
     "execution_count": 109,
     "metadata": {},
     "output_type": "execute_result"
    }
   ],
   "source": [
    "hto.obs.head()"
   ]
  },
  {
   "cell_type": "code",
   "execution_count": 113,
   "metadata": {},
   "outputs": [
    {
     "name": "stdout",
     "output_type": "stream",
     "text": [
      "View of AnnData object with n_obs × n_vars = 320 × 4\n",
      "    obs: 'most_likely_hypothesis', 'cluster_feature', 'negative_hypothesis_probability', 'singlet_hypothesis_probability', 'doublet_hypothesis_probability', 'Classification'\n",
      "    var: 'gene_ids', 'feature_types'\n",
      "874\n",
      "798\n",
      "880\n",
      "851\n"
     ]
    }
   ],
   "source": [
    "print(len(hto[hto.obs['most_likely_hypothesis']==1]))\n",
    "print(len(hto[hto.obs['Classification']=='K219']))\n",
    "print(len(hto[hto.obs['Classification']=='K231']))\n",
    "print(len(hto[hto.obs['Classification']=='K234']))\n",
    "print(len(hto[hto.obs['Classification']=='K233']))"
   ]
  },
  {
   "cell_type": "code",
   "execution_count": 91,
   "metadata": {},
   "outputs": [
    {
     "name": "stdout",
     "output_type": "stream",
     "text": [
      "D1:\n",
      "Number of cells with fewer than 500 UMI counts: 0\n",
      "Number of cells with fewer than 200 genes: 0\n",
      "Number of genes expressed in fewer than 3 cells: 18651\n",
      "Current Anndata has 3723 cells and 33993 genes, with a total amount of 34316840.0 UMI counts\n",
      "\n",
      "\n",
      "D2:\n",
      "Number of cells with fewer than 500 UMI counts: 0\n",
      "Number of cells with fewer than 200 genes: 0\n",
      "Number of genes expressed in fewer than 3 cells: 18124\n",
      "Current Anndata has 5584 cells and 33993 genes, with a total amount of 38237432.0 UMI counts\n",
      "\n",
      "\n",
      "D3:\n",
      "Number of cells with fewer than 500 UMI counts: 0\n",
      "Number of cells with fewer than 200 genes: 0\n",
      "Number of genes expressed in fewer than 3 cells: 17804\n",
      "Current Anndata has 4757 cells and 33993 genes, with a total amount of 40150808.0 UMI counts\n",
      "\n",
      "\n",
      "D4:\n",
      "Number of cells with fewer than 500 UMI counts: 0\n",
      "Number of cells with fewer than 200 genes: 2\n",
      "Number of genes expressed in fewer than 3 cells: 18694\n",
      "Current Anndata has 4010 cells and 33993 genes, with a total amount of 34287456.0 UMI counts\n",
      "\n",
      "\n"
     ]
    }
   ],
   "source": [
    "# Print Quality Control metric for each dataset\n",
    "for adata_key, adata in adatas.items():\n",
    "    print(f\"{adata_key}:\")\n",
    "    summarize_adata(adata)\n",
    "    print(\"\\n\")"
   ]
  },
  {
   "cell_type": "code",
   "execution_count": null,
   "metadata": {},
   "outputs": [],
   "source": []
  },
  {
   "cell_type": "code",
   "execution_count": null,
   "metadata": {},
   "outputs": [],
   "source": []
  }
 ],
 "metadata": {
  "kernelspec": {
   "display_name": "scvi-env",
   "language": "python",
   "name": "python3"
  },
  "language_info": {
   "codemirror_mode": {
    "name": "ipython",
    "version": 3
   },
   "file_extension": ".py",
   "mimetype": "text/x-python",
   "name": "python",
   "nbconvert_exporter": "python",
   "pygments_lexer": "ipython3",
   "version": "3.9.19"
  }
 },
 "nbformat": 4,
 "nbformat_minor": 2
}
